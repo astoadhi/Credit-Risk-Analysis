{
 "cells": [
  {
   "cell_type": "code",
   "execution_count": 1,
   "metadata": {},
   "outputs": [],
   "source": [
    "#import library\n",
    "from src import utils\n",
    "import pandas as pd\n",
    "import numpy as np\n",
    "import seaborn as sns\n",
    "import matplotlib.pyplot as plt\n",
    "from sklearn.ensemble import RandomForestClassifier\n",
    "from sklearn.linear_model import LogisticRegression\n",
    "from sklearn.neighbors import KNeighborsClassifier\n",
    "import seaborn as sns\n",
    "from sklearn.model_selection import train_test_split, GridSearchCV\n",
    "from sklearn.metrics import classification_report"
   ]
  },
  {
   "cell_type": "code",
   "execution_count": 2,
   "metadata": {},
   "outputs": [],
   "source": [
    "# Deserialize data \n",
    "X_train = utils.deserialized_data(\"data/processed/X_train_ros.pkl\")\n",
    "y_train = utils.deserialized_data(\"data/processed/y_train_ros.pkl\")"
   ]
  },
  {
   "cell_type": "code",
   "execution_count": 5,
   "metadata": {},
   "outputs": [],
   "source": [
    "# Hyperparameters for each model\n",
    "hyperparams = {\n",
    "    'LogisticRegression': {\n",
    "        'C': [0.01, 0.1, 1, 20],\n",
    "        'solver': ['liblinear', 'saga'],\n",
    "        \"penalty\": [\"l1\",\"l2\"],\n",
    "    },\n",
    "    'RandomForestClassifier': {\n",
    "         'max_depth': [1,5,8,10],\n",
    "         'max_features' : [1,2,3,4,5,6],\n",
    "         'n_estimators': [20,50,100,300,500,1000]\n",
    "    },\n",
    "    'KNN': {\n",
    "        \"algorithm\" : [\"ball_tree\", \"kd_tree\", \"brute\"],\n",
    "        \"n_neighbors\" : [2, 3, 4, 5],\n",
    "        \"leaf_size\" : [2, 3, 4, 5]\n",
    "    }\n",
    "}"
   ]
  },
  {
   "cell_type": "code",
   "execution_count": 6,
   "metadata": {},
   "outputs": [],
   "source": [
    "def train_model(model, params, X_train, y_train):\n",
    "    \"\"\"\n",
    "    Trains the model using GridSearchCV for hyperparameter tuning.\n",
    "    \n",
    "    Parameters:\n",
    "        model: The model instance to be trained.\n",
    "        params: Dictionary of hyperparameters for tuning.\n",
    "        X_train: Training features.\n",
    "        y_train: Training labels.\n",
    "    \n",
    "    Returns:\n",
    "        Trained model instance with best parameters.\n",
    "    \"\"\"\n",
    "    grid_search = GridSearchCV(model, params, n_jobs=-1, verbose=3)\n",
    "    grid_search.fit(X_train, y_train)\n",
    "    return grid_search"
   ]
  },
  {
   "cell_type": "code",
   "execution_count": 7,
   "metadata": {},
   "outputs": [
    {
     "name": "stdout",
     "output_type": "stream",
     "text": [
      "Fitting 5 folds for each of 16 candidates, totalling 80 fits\n"
     ]
    },
    {
     "name": "stderr",
     "output_type": "stream",
     "text": [
      "c:\\Users\\ASUS\\AppData\\Local\\Programs\\Python\\Python312\\Lib\\site-packages\\sklearn\\linear_model\\_logistic.py:1271: UserWarning: 'n_jobs' > 1 does not have any effect when 'solver' is set to 'liblinear'. Got 'n_jobs' = 16.\n",
      "  warnings.warn(\n"
     ]
    },
    {
     "name": "stdout",
     "output_type": "stream",
     "text": [
      "Fitting 5 folds for each of 144 candidates, totalling 720 fits\n"
     ]
    },
    {
     "name": "stderr",
     "output_type": "stream",
     "text": [
      "c:\\Users\\ASUS\\AppData\\Local\\Programs\\Python\\Python312\\Lib\\site-packages\\numpy\\ma\\core.py:2820: RuntimeWarning: invalid value encountered in cast\n",
      "  _data = np.array(data, dtype=dtype, copy=copy,\n"
     ]
    },
    {
     "name": "stdout",
     "output_type": "stream",
     "text": [
      "Fitting 5 folds for each of 48 candidates, totalling 240 fits\n"
     ]
    }
   ],
   "source": [
    "models = {\n",
    "    'LogisticRegression': LogisticRegression(n_jobs=-1),\n",
    "    'RandomForestClassifier': RandomForestClassifier(n_jobs=-1),\n",
    "    'KNN': KNeighborsClassifier(n_jobs=-1)\n",
    "}\n",
    "\n",
    "trained_models = {}\n",
    "\n",
    "for name, model in models.items():\n",
    "    trained_model = train_model(model, hyperparams[name], X_train, y_train)\n",
    "    trained_models[name] = trained_model\n",
    "    utils.serialize_data(trained_model, f'models/{name}_model.pkl')  # Save the model"
   ]
  }
 ],
 "metadata": {
  "kernelspec": {
   "display_name": "Python 3",
   "language": "python",
   "name": "python3"
  },
  "language_info": {
   "codemirror_mode": {
    "name": "ipython",
    "version": 3
   },
   "file_extension": ".py",
   "mimetype": "text/x-python",
   "name": "python",
   "nbconvert_exporter": "python",
   "pygments_lexer": "ipython3",
   "version": "3.12.6"
  }
 },
 "nbformat": 4,
 "nbformat_minor": 2
}
