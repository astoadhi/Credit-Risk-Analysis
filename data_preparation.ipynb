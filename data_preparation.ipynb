{
 "cells": [
  {
   "cell_type": "code",
   "execution_count": 1,
   "metadata": {
    "id": "DzQULR8IgUmU"
   },
   "outputs": [],
   "source": [
    "import pandas as pd"
   ]
  },
  {
   "cell_type": "code",
   "execution_count": 2,
   "metadata": {
    "id": "cR0G0bBtgZlq"
   },
   "outputs": [],
   "source": [
    "def load_data(fname):\n",
    "    \"\"\"Reads CSV data and performs basic preprocessing.\n",
    "\n",
    "    This function reads data from a given CSV file, removes duplicates,\n",
    "    and returns the data as a Pandas DataFrame.\n",
    "\n",
    "    Args:\n",
    "        fname (str): Path to the CSV file.\n",
    "\n",
    "    Returns:\n",
    "        data: DataFrame containing the preprocessed data.\n",
    "    \"\"\"\n",
    "\n",
    "    if not isinstance(fname, str):\n",
    "        raise TypeError(\"`fname` must be a string.\")\n",
    "\n",
    "    data = pd.read_csv(fname)\n",
    "    print(f'Data shape  : {data.shape}')\n",
    "    return data"
   ]
  },
  {
   "cell_type": "code",
   "execution_count": 3,
   "metadata": {
    "colab": {
     "base_uri": "https://localhost:8080/"
    },
    "id": "G1oG3VjwgsOf",
    "outputId": "5160662e-3101-4774-aeff-f0e73887b791"
   },
   "outputs": [
    {
     "name": "stdout",
     "output_type": "stream",
     "text": [
      "Data shape  : (32581, 12)\n"
     ]
    },
    {
     "data": {
      "text/html": [
       "<div>\n",
       "<style scoped>\n",
       "    .dataframe tbody tr th:only-of-type {\n",
       "        vertical-align: middle;\n",
       "    }\n",
       "\n",
       "    .dataframe tbody tr th {\n",
       "        vertical-align: top;\n",
       "    }\n",
       "\n",
       "    .dataframe thead th {\n",
       "        text-align: right;\n",
       "    }\n",
       "</style>\n",
       "<table border=\"1\" class=\"dataframe\">\n",
       "  <thead>\n",
       "    <tr style=\"text-align: right;\">\n",
       "      <th></th>\n",
       "      <th>person_age</th>\n",
       "      <th>person_income</th>\n",
       "      <th>person_home_ownership</th>\n",
       "      <th>person_emp_length</th>\n",
       "      <th>loan_intent</th>\n",
       "      <th>loan_grade</th>\n",
       "      <th>loan_amnt</th>\n",
       "      <th>loan_int_rate</th>\n",
       "      <th>loan_status</th>\n",
       "      <th>loan_percent_income</th>\n",
       "      <th>cb_person_default_on_file</th>\n",
       "      <th>cb_person_cred_hist_length</th>\n",
       "    </tr>\n",
       "  </thead>\n",
       "  <tbody>\n",
       "    <tr>\n",
       "      <th>0</th>\n",
       "      <td>22</td>\n",
       "      <td>59000</td>\n",
       "      <td>RENT</td>\n",
       "      <td>123.0</td>\n",
       "      <td>PERSONAL</td>\n",
       "      <td>D</td>\n",
       "      <td>35000</td>\n",
       "      <td>16.02</td>\n",
       "      <td>1</td>\n",
       "      <td>0.59</td>\n",
       "      <td>Y</td>\n",
       "      <td>3</td>\n",
       "    </tr>\n",
       "    <tr>\n",
       "      <th>1</th>\n",
       "      <td>21</td>\n",
       "      <td>9600</td>\n",
       "      <td>OWN</td>\n",
       "      <td>5.0</td>\n",
       "      <td>EDUCATION</td>\n",
       "      <td>B</td>\n",
       "      <td>1000</td>\n",
       "      <td>11.14</td>\n",
       "      <td>0</td>\n",
       "      <td>0.10</td>\n",
       "      <td>N</td>\n",
       "      <td>2</td>\n",
       "    </tr>\n",
       "    <tr>\n",
       "      <th>2</th>\n",
       "      <td>25</td>\n",
       "      <td>9600</td>\n",
       "      <td>MORTGAGE</td>\n",
       "      <td>1.0</td>\n",
       "      <td>MEDICAL</td>\n",
       "      <td>C</td>\n",
       "      <td>5500</td>\n",
       "      <td>12.87</td>\n",
       "      <td>1</td>\n",
       "      <td>0.57</td>\n",
       "      <td>N</td>\n",
       "      <td>3</td>\n",
       "    </tr>\n",
       "    <tr>\n",
       "      <th>3</th>\n",
       "      <td>23</td>\n",
       "      <td>65500</td>\n",
       "      <td>RENT</td>\n",
       "      <td>4.0</td>\n",
       "      <td>MEDICAL</td>\n",
       "      <td>C</td>\n",
       "      <td>35000</td>\n",
       "      <td>15.23</td>\n",
       "      <td>1</td>\n",
       "      <td>0.53</td>\n",
       "      <td>N</td>\n",
       "      <td>2</td>\n",
       "    </tr>\n",
       "    <tr>\n",
       "      <th>4</th>\n",
       "      <td>24</td>\n",
       "      <td>54400</td>\n",
       "      <td>RENT</td>\n",
       "      <td>8.0</td>\n",
       "      <td>MEDICAL</td>\n",
       "      <td>C</td>\n",
       "      <td>35000</td>\n",
       "      <td>14.27</td>\n",
       "      <td>1</td>\n",
       "      <td>0.55</td>\n",
       "      <td>Y</td>\n",
       "      <td>4</td>\n",
       "    </tr>\n",
       "  </tbody>\n",
       "</table>\n",
       "</div>"
      ],
      "text/plain": [
       "   person_age  person_income person_home_ownership  person_emp_length  \\\n",
       "0          22          59000                  RENT              123.0   \n",
       "1          21           9600                   OWN                5.0   \n",
       "2          25           9600              MORTGAGE                1.0   \n",
       "3          23          65500                  RENT                4.0   \n",
       "4          24          54400                  RENT                8.0   \n",
       "\n",
       "  loan_intent loan_grade  loan_amnt  loan_int_rate  loan_status  \\\n",
       "0    PERSONAL          D      35000          16.02            1   \n",
       "1   EDUCATION          B       1000          11.14            0   \n",
       "2     MEDICAL          C       5500          12.87            1   \n",
       "3     MEDICAL          C      35000          15.23            1   \n",
       "4     MEDICAL          C      35000          14.27            1   \n",
       "\n",
       "   loan_percent_income cb_person_default_on_file  cb_person_cred_hist_length  \n",
       "0                 0.59                         Y                           3  \n",
       "1                 0.10                         N                           2  \n",
       "2                 0.57                         N                           3  \n",
       "3                 0.53                         N                           2  \n",
       "4                 0.55                         Y                           4  "
      ]
     },
     "execution_count": 3,
     "metadata": {},
     "output_type": "execute_result"
    }
   ],
   "source": [
    "FNAME = 'data/raw/credit_risk_dataset.csv'\n",
    "data=load_data(FNAME)\n",
    "data.head()"
   ]
  },
  {
   "cell_type": "code",
   "execution_count": 4,
   "metadata": {
    "id": "5VH4_fCmj26J"
   },
   "outputs": [],
   "source": [
    "def split_input_output(data, target_col):\n",
    "    \"\"\"\n",
    "  Splits a dataset into input (X) and output (y).\n",
    "\n",
    "  This function takes a DataFrame as input and the name of the target column as a string.\n",
    "  The target column will be separated into the y variable, while the rest will be the X variable.\n",
    "\n",
    "  Args:\n",
    "    data (pd.DataFrame): DataFrame containing the complete dataset.\n",
    "    target_col (str): Name of the column containing the target data.\n",
    "\n",
    "  Returns:\n",
    "    X (input) and y (output) both of them dataframe.\n",
    "  \"\"\"\n",
    "    X = data.drop(columns=target_col)\n",
    "    y = data[target_col]\n",
    "    print(f'Original data shape : {data.shape}')\n",
    "    print(f'X data shape        : {X.shape}')\n",
    "    print(f'y data shape        : {y.shape}')\n",
    "    return X, y"
   ]
  },
  {
   "cell_type": "code",
   "execution_count": 5,
   "metadata": {
    "colab": {
     "base_uri": "https://localhost:8080/"
    },
    "id": "NUfxVGCUkbOV",
    "outputId": "0e95f2a7-9271-4b88-e996-a0899aba8812"
   },
   "outputs": [
    {
     "name": "stdout",
     "output_type": "stream",
     "text": [
      "Original data shape : (32581, 12)\n",
      "X data shape        : (32581, 11)\n",
      "y data shape        : (32581,)\n"
     ]
    }
   ],
   "source": [
    "TARGET_COL = 'loan_status'\n",
    "X, y = split_input_output(data=data,\n",
    "                          target_col=TARGET_COL)"
   ]
  },
  {
   "cell_type": "code",
   "execution_count": 6,
   "metadata": {},
   "outputs": [],
   "source": [
    "from sklearn.model_selection import train_test_split"
   ]
  },
  {
   "cell_type": "code",
   "execution_count": 8,
   "metadata": {
    "id": "lLeEOa_3k6VY"
   },
   "outputs": [],
   "source": [
    "def split_train_test(X, y, test_size, random_state):\n",
    "    \"\"\"\n",
    "  Splits a dataset into training and testing sets.\n",
    "\n",
    "  This function uses stratified sampling to ensure equal class proportions in the training and testing sets.\n",
    "\n",
    "  Args:\n",
    "    X: Features (independent variable).\n",
    "    y: Target (dependent variable).\n",
    "    test_size: Proportion of data to be used as the testing set.\n",
    "    random_state: Value to generate the same random sequence each time the function is called.\n",
    "\n",
    "  Returns:\n",
    "    X_train, X_test, y_train, and y_test : Dataframe that use X and y for train,valid,and test.\n",
    "  \"\"\"\n",
    "    X_train, X_test, y_train, y_test = train_test_split(X, y, test_size=test_size, random_state=random_state,stratify=y)\n",
    "\n",
    "    print(f\"X_train shape   : {X_train.shape}\")\n",
    "    print(f\"y_train shape   : {y_train.shape}\")\n",
    "    print(f\"X_test shape    : {X_test.shape}\")\n",
    "    print(f\"y_test shape    : {y_test.shape}\")\n",
    "\n",
    "    # Return X_train, X_test, y_train, y_test\n",
    "    return X_train, X_test, y_train, y_test"
   ]
  },
  {
   "cell_type": "code",
   "execution_count": 9,
   "metadata": {
    "colab": {
     "base_uri": "https://localhost:8080/"
    },
    "id": "eIGJiwZVlB0S",
    "outputId": "27a2c468-4f84-4655-d428-80d626de844a"
   },
   "outputs": [
    {
     "name": "stdout",
     "output_type": "stream",
     "text": [
      "X_train shape   : (26064, 11)\n",
      "y_train shape   : (26064,)\n",
      "X_test shape    : (6517, 11)\n",
      "y_test shape    : (6517,)\n",
      "\n",
      "X_train shape   : (3258, 11)\n",
      "y_train shape   : (3258,)\n",
      "X_test shape    : (3259, 11)\n",
      "y_test shape    : (3259,)\n"
     ]
    }
   ],
   "source": [
    "# Split the data\n",
    "# First, split the train & not train\n",
    "X_train, X_not_train, y_train, y_not_train = split_train_test(X,y,0.2,42)\n",
    "print()\n",
    "# Then, split the valid & test\n",
    "X_valid, X_test, y_valid, y_test = split_train_test(X_not_train,y_not_train,0.5,42)"
   ]
  },
  {
   "cell_type": "code",
   "execution_count": 10,
   "metadata": {},
   "outputs": [],
   "source": [
    "import joblib"
   ]
  },
  {
   "cell_type": "code",
   "execution_count": 11,
   "metadata": {},
   "outputs": [],
   "source": [
    "def serialize_data(data,path):\n",
    "   \"\"\"\n",
    "  Serializes data using joblib.\n",
    "\n",
    "  Args:\n",
    "    data: Data to be serialized (can be a list, array, or other Python object).\n",
    "    path: Path to the file where the data will be saved.\n",
    "\n",
    "  Returns:\n",
    "    None: This function does not return anything, but saves the data to a file.\n",
    "  \"\"\"\n",
    "   joblib.dump(data,path)"
   ]
  },
  {
   "cell_type": "code",
   "execution_count": 12,
   "metadata": {},
   "outputs": [],
   "source": [
    "serialize_data(X_train,\"X_train.pkl\")\n",
    "serialize_data(y_train,\"y_train.pkl\")\n",
    "serialize_data(X_valid,\"X_valid.pkl\")\n",
    "serialize_data(y_valid,\"y_valid.pkl\")\n",
    "serialize_data(X_test,\"X_test.pkl\")\n",
    "serialize_data(y_test,\"y_test.pkl\")"
   ]
  },
  {
   "cell_type": "code",
   "execution_count": 13,
   "metadata": {},
   "outputs": [],
   "source": [
    "def deserialized_data(path):\n",
    "    \"\"\"\n",
    "  Deserializes data using joblib.\n",
    "\n",
    "  Args:\n",
    "    path: Path to the file where the data is stored.\n",
    "\n",
    "  Returns:\n",
    "    The deserialized data.\n",
    "  \"\"\"\n",
    "\n",
    "    data=joblib.load(path)\n",
    "    return data\n"
   ]
  }
 ],
 "metadata": {
  "colab": {
   "provenance": []
  },
  "kernelspec": {
   "display_name": "Python 3 (ipykernel)",
   "language": "python",
   "name": "python3"
  },
  "language_info": {
   "codemirror_mode": {
    "name": "ipython",
    "version": 3
   },
   "file_extension": ".py",
   "mimetype": "text/x-python",
   "name": "python",
   "nbconvert_exporter": "python",
   "pygments_lexer": "ipython3",
   "version": "3.10.12"
  }
 },
 "nbformat": 4,
 "nbformat_minor": 4
}
